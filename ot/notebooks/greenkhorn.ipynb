{
 "cells": [
  {
   "cell_type": "code",
   "execution_count": 1,
   "metadata": {
    "collapsed": true
   },
   "outputs": [
    {
     "name": "stdout",
     "output_type": "stream",
     "text": [
      "[[ 6.30250878  6.79912605  6.76229654 ... 10.33757483 10.22681139\n",
      "   5.92974036]\n",
      " [ 7.059478    7.3879032   7.98673218 ... 11.24196525 10.75783625\n",
      "   6.71345411]\n",
      " [ 8.47764008  8.75638966  8.99858427 ... 12.24310842  9.97827099\n",
      "   7.14723629]\n",
      " ...\n",
      " [ 7.90258968  8.6396977   8.07745145 ... 10.85434616  6.63251079\n",
      "   5.59538786]\n",
      " [ 5.49220675  6.39322004  5.69585709 ...  9.16732956  6.11145239\n",
      "   3.11699454]\n",
      " [ 4.59699762  4.7318919   4.76740574 ...  9.698665    7.19063434\n",
      "   2.0444886 ]]\n"
     ]
    },
    {
     "ename": "ValueError",
     "evalue": "vmap was requested to map its argument along axis 0, which implies that its rank should be at least 1, but is only 0 (its shape is ())",
     "output_type": "error",
     "traceback": [
      "\u001B[0;31m---------------------------------------------------------------------------\u001B[0m",
      "\u001B[0;31mIndexError\u001B[0m                                Traceback (most recent call last)",
      "File \u001B[0;32m~/greenkhorn_apdamd/venv/lib/python3.11/site-packages/jax/_src/api.py:1278\u001B[0m, in \u001B[0;36m_mapped_axis_size.<locals>._get_axis_size\u001B[0;34m(name, shape, axis)\u001B[0m\n\u001B[1;32m   1277\u001B[0m \u001B[38;5;28;01mtry\u001B[39;00m:\n\u001B[0;32m-> 1278\u001B[0m   \u001B[38;5;28;01mreturn\u001B[39;00m \u001B[43mshape\u001B[49m\u001B[43m[\u001B[49m\u001B[43maxis\u001B[49m\u001B[43m]\u001B[49m\n\u001B[1;32m   1279\u001B[0m \u001B[38;5;28;01mexcept\u001B[39;00m (\u001B[38;5;167;01mIndexError\u001B[39;00m, \u001B[38;5;167;01mTypeError\u001B[39;00m) \u001B[38;5;28;01mas\u001B[39;00m e:\n",
      "\u001B[0;31mIndexError\u001B[0m: tuple index out of range",
      "\nThe above exception was the direct cause of the following exception:\n",
      "\u001B[0;31mValueError\u001B[0m                                Traceback (most recent call last)",
      "Cell \u001B[0;32mIn[1], line 42\u001B[0m\n\u001B[1;32m     39\u001B[0m c \u001B[38;5;241m=\u001B[39m c_fun(C)\n\u001B[1;32m     40\u001B[0m eps \u001B[38;5;241m=\u001B[39m \u001B[38;5;241m0.05\u001B[39m\n\u001B[0;32m---> 42\u001B[0m \u001B[43mOT\u001B[49m\u001B[43m(\u001B[49m\u001B[43mC\u001B[49m\u001B[43m,\u001B[49m\u001B[43m \u001B[49m\u001B[43mr\u001B[49m\u001B[43m,\u001B[49m\u001B[43m \u001B[49m\u001B[43mc\u001B[49m\u001B[43m,\u001B[49m\u001B[43m \u001B[49m\u001B[43meps\u001B[49m\u001B[43m)\u001B[49m\n",
      "File \u001B[0;32m~/greenkhorn_apdamd/ot/greenkhorn/greenkhorn.py:102\u001B[0m, in \u001B[0;36mOT\u001B[0;34m(C, r, c, eps)\u001B[0m\n\u001B[1;32m    100\u001B[0m r_tilde \u001B[38;5;241m=\u001B[39m (\u001B[38;5;241m1\u001B[39m \u001B[38;5;241m-\u001B[39m eps_p \u001B[38;5;241m/\u001B[39m \u001B[38;5;241m8\u001B[39m) \u001B[38;5;241m*\u001B[39m r \u001B[38;5;241m+\u001B[39m eps_p \u001B[38;5;241m/\u001B[39m (\u001B[38;5;241m8\u001B[39m \u001B[38;5;241m*\u001B[39m n) \u001B[38;5;241m*\u001B[39m jnp\u001B[38;5;241m.\u001B[39mones(n, )\n\u001B[1;32m    101\u001B[0m c_tilde \u001B[38;5;241m=\u001B[39m (\u001B[38;5;241m1\u001B[39m \u001B[38;5;241m-\u001B[39m eps_p \u001B[38;5;241m/\u001B[39m \u001B[38;5;241m8\u001B[39m) \u001B[38;5;241m*\u001B[39m c \u001B[38;5;241m+\u001B[39m eps_p \u001B[38;5;241m/\u001B[39m (\u001B[38;5;241m8\u001B[39m \u001B[38;5;241m*\u001B[39m n) \u001B[38;5;241m*\u001B[39m jnp\u001B[38;5;241m.\u001B[39mones(n, )\n\u001B[0;32m--> 102\u001B[0m X_tilde \u001B[38;5;241m=\u001B[39m \u001B[43mgreenkhorn\u001B[49m\u001B[43m(\u001B[49m\u001B[43mC\u001B[49m\u001B[43m,\u001B[49m\u001B[43m \u001B[49m\u001B[43meta\u001B[49m\u001B[43m,\u001B[49m\u001B[43m \u001B[49m\u001B[43mr_tilde\u001B[49m\u001B[43m,\u001B[49m\u001B[43m \u001B[49m\u001B[43mc_tilde\u001B[49m\u001B[43m,\u001B[49m\u001B[43m \u001B[49m\u001B[43meps_p\u001B[49m\u001B[43m \u001B[49m\u001B[38;5;241;43m/\u001B[39;49m\u001B[43m \u001B[49m\u001B[38;5;241;43m2\u001B[39;49m\u001B[43m)\u001B[49m\n\u001B[1;32m    103\u001B[0m X_hat \u001B[38;5;241m=\u001B[39m Round(C, X_tilde)\n\u001B[1;32m    104\u001B[0m \u001B[38;5;28;01mreturn\u001B[39;00m X_hat\n",
      "File \u001B[0;32m~/greenkhorn_apdamd/ot/greenkhorn/greenkhorn.py:74\u001B[0m, in \u001B[0;36mgreenkhorn\u001B[0;34m(C, eta, r, c, tol)\u001B[0m\n\u001B[1;32m     71\u001B[0m     \u001B[38;5;28;01mreturn\u001B[39;00m n_iter \u001B[38;5;241m+\u001B[39m \u001B[38;5;241m1\u001B[39m, u, v, rBuv, cBuv, Buv\n\u001B[1;32m     73\u001B[0m inps \u001B[38;5;241m=\u001B[39m (\u001B[38;5;241m0\u001B[39m, jnp\u001B[38;5;241m.\u001B[39mzeros(n), jnp\u001B[38;5;241m.\u001B[39mzeros(n), rBuv, cBuv, Buv)\n\u001B[0;32m---> 74\u001B[0m _, _, _, _, _, Buv \u001B[38;5;241m=\u001B[39m \u001B[43mjax\u001B[49m\u001B[38;5;241;43m.\u001B[39;49m\u001B[43mlax\u001B[49m\u001B[38;5;241;43m.\u001B[39;49m\u001B[43mwhile_loop\u001B[49m\u001B[43m(\u001B[49m\u001B[43mcriterion\u001B[49m\u001B[43m,\u001B[49m\u001B[43m \u001B[49m\u001B[38;5;28;43miter\u001B[39;49m\u001B[43m,\u001B[49m\u001B[43m \u001B[49m\u001B[43minps\u001B[49m\u001B[43m)\u001B[49m\n\u001B[1;32m     75\u001B[0m \u001B[38;5;28;01mreturn\u001B[39;00m Buv\n",
      "    \u001B[0;31m[... skipping hidden 9 frame]\u001B[0m\n",
      "File \u001B[0;32m~/greenkhorn_apdamd/ot/greenkhorn/greenkhorn.py:56\u001B[0m, in \u001B[0;36mgreenkhorn.<locals>.iter\u001B[0;34m(inps)\u001B[0m\n\u001B[1;32m     54\u001B[0m I \u001B[38;5;241m=\u001B[39m jnp\u001B[38;5;241m.\u001B[39margmax(rho_r(rBuv))\n\u001B[1;32m     55\u001B[0m J \u001B[38;5;241m=\u001B[39m jnp\u001B[38;5;241m.\u001B[39margmax(rho_r(cBuv))\n\u001B[0;32m---> 56\u001B[0m rhoRbuv \u001B[38;5;241m=\u001B[39m \u001B[43mrho_r\u001B[49m\u001B[43m(\u001B[49m\u001B[43mrBuv\u001B[49m\u001B[38;5;241;43m.\u001B[39;49m\u001B[43mat\u001B[49m\u001B[43m[\u001B[49m\u001B[43mI\u001B[49m\u001B[43m]\u001B[49m\u001B[38;5;241;43m.\u001B[39;49m\u001B[43mget\u001B[49m\u001B[43m(\u001B[49m\u001B[43m)\u001B[49m\u001B[43m)\u001B[49m\n\u001B[1;32m     57\u001B[0m rhoCbuv \u001B[38;5;241m=\u001B[39m rho_r(cBuv\u001B[38;5;241m.\u001B[39mat[J]\u001B[38;5;241m.\u001B[39mget())\n\u001B[1;32m     58\u001B[0m u, Buv \u001B[38;5;241m=\u001B[39m jax\u001B[38;5;241m.\u001B[39mlax\u001B[38;5;241m.\u001B[39mcond(rhoRbuv \u001B[38;5;241m>\u001B[39m rhoCbuv,\n\u001B[1;32m     59\u001B[0m                       (u\u001B[38;5;241m.\u001B[39mat[I]\u001B[38;5;241m.\u001B[39mset(u\u001B[38;5;241m.\u001B[39mat[I]\u001B[38;5;241m.\u001B[39mget() \u001B[38;5;241m+\u001B[39m jnp\u001B[38;5;241m.\u001B[39mlog(r\u001B[38;5;241m.\u001B[39mat[I]\u001B[38;5;241m.\u001B[39mget()) \u001B[38;5;241m-\u001B[39m jnp\u001B[38;5;241m.\u001B[39mlog(rBuv\u001B[38;5;241m.\u001B[39mat[I]\u001B[38;5;241m.\u001B[39mget())),\n\u001B[1;32m     60\u001B[0m                        Buv\u001B[38;5;241m.\u001B[39mat[I]\u001B[38;5;241m.\u001B[39mset(Buv\u001B[38;5;241m.\u001B[39mat[I]\u001B[38;5;241m.\u001B[39mget() \u001B[38;5;241m*\u001B[39m r\u001B[38;5;241m.\u001B[39mat[I]\u001B[38;5;241m.\u001B[39mget() \u001B[38;5;241m/\u001B[39m rBuv\u001B[38;5;241m.\u001B[39mat[I]\u001B[38;5;241m.\u001B[39mget())\n\u001B[1;32m     61\u001B[0m                        ),\n\u001B[1;32m     62\u001B[0m                       (u, Buv), \u001B[38;5;28;01mNone\u001B[39;00m)\n",
      "File \u001B[0;32m~/greenkhorn_apdamd/ot/greenkhorn/greenkhorn.py:46\u001B[0m, in \u001B[0;36mgreenkhorn.<locals>.rho_r\u001B[0;34m(b)\u001B[0m\n\u001B[1;32m     45\u001B[0m \u001B[38;5;28;01mdef\u001B[39;00m \u001B[38;5;21mrho_r\u001B[39m(b):\n\u001B[0;32m---> 46\u001B[0m     \u001B[38;5;28;01mreturn\u001B[39;00m \u001B[43mjax\u001B[49m\u001B[38;5;241;43m.\u001B[39;49m\u001B[43mvmap\u001B[49m\u001B[43m(\u001B[49m\u001B[43mrho\u001B[49m\u001B[43m,\u001B[49m\u001B[43m \u001B[49m\u001B[43min_axes\u001B[49m\u001B[38;5;241;43m=\u001B[39;49m\u001B[43m(\u001B[49m\u001B[38;5;241;43m0\u001B[39;49m\u001B[43m,\u001B[49m\u001B[43m \u001B[49m\u001B[38;5;241;43m0\u001B[39;49m\u001B[43m)\u001B[49m\u001B[43m)\u001B[49m\u001B[43m(\u001B[49m\u001B[43mr\u001B[49m\u001B[43m,\u001B[49m\u001B[43m \u001B[49m\u001B[43mb\u001B[49m\u001B[43m)\u001B[49m\n",
      "    \u001B[0;31m[... skipping hidden 6 frame]\u001B[0m\n",
      "File \u001B[0;32m~/greenkhorn_apdamd/venv/lib/python3.11/site-packages/jax/_src/api.py:1282\u001B[0m, in \u001B[0;36m_mapped_axis_size.<locals>._get_axis_size\u001B[0;34m(name, shape, axis)\u001B[0m\n\u001B[1;32m   1280\u001B[0m min_rank \u001B[38;5;241m=\u001B[39m axis \u001B[38;5;241m+\u001B[39m \u001B[38;5;241m1\u001B[39m \u001B[38;5;28;01mif\u001B[39;00m axis \u001B[38;5;241m>\u001B[39m\u001B[38;5;241m=\u001B[39m \u001B[38;5;241m0\u001B[39m \u001B[38;5;28;01melse\u001B[39;00m \u001B[38;5;241m-\u001B[39maxis\n\u001B[1;32m   1281\u001B[0m \u001B[38;5;66;03m# TODO(mattjj): better error message here\u001B[39;00m\n\u001B[0;32m-> 1282\u001B[0m \u001B[38;5;28;01mraise\u001B[39;00m \u001B[38;5;167;01mValueError\u001B[39;00m(\n\u001B[1;32m   1283\u001B[0m     \u001B[38;5;124mf\u001B[39m\u001B[38;5;124m\"\u001B[39m\u001B[38;5;132;01m{\u001B[39;00mname\u001B[38;5;132;01m}\u001B[39;00m\u001B[38;5;124m was requested to map its argument along axis \u001B[39m\u001B[38;5;132;01m{\u001B[39;00maxis\u001B[38;5;132;01m}\u001B[39;00m\u001B[38;5;124m, \u001B[39m\u001B[38;5;124m\"\u001B[39m\n\u001B[1;32m   1284\u001B[0m     \u001B[38;5;124mf\u001B[39m\u001B[38;5;124m\"\u001B[39m\u001B[38;5;124mwhich implies that its rank should be at least \u001B[39m\u001B[38;5;132;01m{\u001B[39;00mmin_rank\u001B[38;5;132;01m}\u001B[39;00m\u001B[38;5;124m, \u001B[39m\u001B[38;5;124m\"\u001B[39m\n\u001B[1;32m   1285\u001B[0m     \u001B[38;5;124mf\u001B[39m\u001B[38;5;124m\"\u001B[39m\u001B[38;5;124mbut is only \u001B[39m\u001B[38;5;132;01m{\u001B[39;00m\u001B[38;5;28mlen\u001B[39m(shape)\u001B[38;5;132;01m}\u001B[39;00m\u001B[38;5;124m (its shape is \u001B[39m\u001B[38;5;132;01m{\u001B[39;00mshape\u001B[38;5;132;01m}\u001B[39;00m\u001B[38;5;124m)\u001B[39m\u001B[38;5;124m\"\u001B[39m) \u001B[38;5;28;01mfrom\u001B[39;00m \u001B[38;5;21;01me\u001B[39;00m\n",
      "\u001B[0;31mValueError\u001B[0m: vmap was requested to map its argument along axis 0, which implies that its rank should be at least 1, but is only 0 (its shape is ())"
     ]
    }
   ],
   "source": [
    "import numpy as np\n",
    "from ot.greenkhorn.greenkhorn import OT\n",
    "from ot.greenkhorn.greenkhorn import r_fun, c_fun\n",
    "\n",
    "\n",
    "def Gaussian_OT(Gaussian_1, Gaussian_2):\n",
    "    m1, cov1 = Gaussian_1\n",
    "    m2, cov2 = Gaussian_2\n",
    "    sqrt_cov1 = np.linalg.cholesky(cov2)\n",
    "    invsqrt_cov1 = np.linalg.inv(sqrt_cov1)\n",
    "    cov = invsqrt_cov1 @ np.linalg.cholesky(sqrt_cov1 @ cov2 @ sqrt_cov1.T) @ invsqrt_cov1\n",
    "\n",
    "    def T(x):\n",
    "        return m2 + cov @ (x - m1)\n",
    "\n",
    "    return T\n",
    "\n",
    "\n",
    "def euclidean_wasserstein(xs, ys, order=2):\n",
    "    return np.mean(np.linalg.norm(xs - ys, axis=-1, ord=order) ** order) ** (1 / order)\n",
    "\n",
    "\n",
    "n = 5\n",
    "m1 = np.random.randn(n)\n",
    "m2 = np.random.randn(n)\n",
    "cov1 = np.random.randn(n, n)\n",
    "cov1 = cov1 @ cov1.T\n",
    "cov2 = np.random.randn(n, n)\n",
    "cov2 = cov2 @ cov2.T\n",
    "Gaussian_1 = (m1, cov1)\n",
    "Gaussian_2 = (m2, cov2)\n",
    "T = Gaussian_OT(Gaussian_1, Gaussian_2)\n",
    "\n",
    "samples_1 = np.random.multivariate_normal(m1, cov1, 1000)\n",
    "samples_2 = np.random.multivariate_normal(m2, cov2, 1000)\n",
    "C = np.array([[np.linalg.norm(sample_1 - sample_2, ord=2) for sample_1 in samples_1] for sample_2 in samples_2])\n",
    "print(C)\n",
    "r = r_fun(C)\n",
    "c = c_fun(C)\n",
    "eps = 0.05\n",
    "\n",
    "OT(C, r, c, eps)"
   ]
  },
  {
   "cell_type": "code",
   "execution_count": null,
   "outputs": [],
   "source": [],
   "metadata": {
    "collapsed": false
   }
  }
 ],
 "metadata": {
  "kernelspec": {
   "display_name": "Python 3",
   "language": "python",
   "name": "python3"
  },
  "language_info": {
   "codemirror_mode": {
    "name": "ipython",
    "version": 2
   },
   "file_extension": ".py",
   "mimetype": "text/x-python",
   "name": "python",
   "nbconvert_exporter": "python",
   "pygments_lexer": "ipython2",
   "version": "2.7.6"
  }
 },
 "nbformat": 4,
 "nbformat_minor": 0
}
