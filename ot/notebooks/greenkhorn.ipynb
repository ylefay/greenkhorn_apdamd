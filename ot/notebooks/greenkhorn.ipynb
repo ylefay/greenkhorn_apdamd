{
 "cells": [
  {
   "cell_type": "code",
   "execution_count": 1,
   "metadata": {
    "collapsed": true
   },
   "outputs": [
    {
     "name": "stdout",
     "output_type": "stream",
     "text": [
      "[[0.00099379 0.00099379 0.00099379 ... 0.00099379 0.00099379 0.00099379]\n",
      " [0.00099379 0.00099379 0.00099379 ... 0.00099379 0.00099379 0.00099379]\n",
      " [0.00099379 0.00099379 0.00099379 ... 0.00099379 0.00099379 0.00099379]\n",
      " ...\n",
      " [0.00099379 0.00099379 0.00099379 ... 0.00099379 0.00099379 0.00099379]\n",
      " [0.00099379 0.00099379 0.00099379 ... 0.00099379 0.00099379 0.00099379]\n",
      " [0.00099379 0.00099379 0.00099379 ... 0.00099379 0.00099379 0.00099379]]\n",
      "[[0.36552929 0.13447071]\n",
      " [0.13447071 0.36552929]]\n",
      "[-1.64973833  0.59053526 -0.96450349 -1.82950145  0.58802464]\n"
     ]
    }
   ],
   "source": [
    "import numpy as np\n",
    "from ot.greenkhorn.greenkhorn import OT\n",
    "import matplotlib.pyplot as plt\n",
    "\n",
    "np.random.seed(0)\n",
    "\n",
    "\n",
    "def Gaussian_OT(Gaussian_1, Gaussian_2):\n",
    "    m1, cov1 = Gaussian_1\n",
    "    m2, cov2 = Gaussian_2\n",
    "    sqrt_cov1 = np.linalg.cholesky(cov2)\n",
    "    invsqrt_cov1 = np.linalg.inv(sqrt_cov1)\n",
    "    cov = invsqrt_cov1 @ np.linalg.cholesky(sqrt_cov1 @ cov2 @ sqrt_cov1.T) @ invsqrt_cov1\n",
    "\n",
    "    def T(x):\n",
    "        return m2 + cov @ (x - m1)\n",
    "\n",
    "    return T\n",
    "\n",
    "\n",
    "def euclidean_wasserstein(xs, ys, order=2):\n",
    "    return np.mean(np.linalg.norm(xs - ys, axis=-1, ord=order) ** order) ** (1 / order)\n",
    "\n",
    "\n",
    "def pdf(x, m, cov):\n",
    "    return np.exp(-(x - m).T @ np.linalg.inv(cov) @ (x - m) / 2)\n",
    "\n",
    "\n",
    "n = 5\n",
    "m1 = np.random.randn(n)\n",
    "m2 = np.random.randn(n)\n",
    "cov1 = np.random.randn(n, n)\n",
    "cov1 = cov1 @ cov1.T\n",
    "cov1 = np.eye(n)\n",
    "cov2 = np.random.randn(n, n)\n",
    "cov2 = cov2 @ cov2.T\n",
    "cov2 = 2 * np.eye(n)\n",
    "Gaussian_1 = (m1, cov1)\n",
    "Gaussian_2 = (m2, cov2)\n",
    "T = Gaussian_OT(Gaussian_1, Gaussian_2)\n",
    "N_samples = 1000\n",
    "samples_1 = np.random.multivariate_normal(m1, cov1, N_samples)\n",
    "samples_2 = np.random.multivariate_normal(m2, cov2, N_samples)\n",
    "C = np.array([[np.linalg.norm(sample_1 - sample_2, ord=2) for sample_1 in samples_1] for sample_2 in samples_2])\n",
    "r = np.vectorize(pdf, signature='(n),(m),(l, r)->()')(samples_1, m1, cov1)\n",
    "c = np.vectorize(pdf, signature='(n),(m),(l, r)->()')(samples_2, m2, cov2)\n",
    "r = r / np.sum(r)\n",
    "c = c / np.sum(c)\n",
    "eps = 1.0\n",
    "tp, _, _ = OT(C, r, c, eps)\n",
    "print(tp)\n",
    "r = np.array([0.5, 0.5])\n",
    "c = np.array([0.5, 0.5])\n",
    "C = np.array([[0., 1.], [1.0, 0.]])\n",
    "tp, _, _ = OT(C, r, c, 4 * np.log(2))\n",
    "print(tp)\n",
    "print(T(samples_1[0]))"
   ]
  },
  {
   "cell_type": "code",
   "execution_count": 2,
   "outputs": [
    {
     "data": {
      "text/plain": "(array([0.0156151 , 0.06246041, 0.17003112, 0.31230206, 0.36261739,\n        0.37302746, 0.27066179, 0.10410069, 0.05378535, 0.01041007]),\n array([-1.07050216, -0.49413708,  0.08222799,  0.65859306,  1.23495814,\n         1.81132321,  2.38768829,  2.96405336,  3.54041844,  4.11678351,\n         4.69314859]),\n <BarContainer object of 10 artists>)"
     },
     "execution_count": 2,
     "metadata": {},
     "output_type": "execute_result"
    },
    {
     "data": {
      "text/plain": "<Figure size 640x480 with 1 Axes>",
      "image/png": "[encoded data removed]"
     },
     "metadata": {},
     "output_type": "display_data"
    }
   ],
   "source": [
    "plt.hist(samples_1[:, 0], bins=10, density=True)"
   ],
   "metadata": {
    "collapsed": false
   }
  },
  {
   "cell_type": "code",
   "execution_count": 8,
   "outputs": [
    {
     "data": {
      "text/plain": "array([1.0915919 , 1.36227141, 2.49314291, 1.07924226, 0.59890251,\n       3.65994152])"
     },
     "execution_count": 8,
     "metadata": {},
     "output_type": "execute_result"
    }
   ],
   "source": [
    "samples_1[:, 0]"
   ],
   "metadata": {
    "collapsed": false
   }
  },
  {
   "cell_type": "code",
   "execution_count": null,
   "outputs": [],
   "source": [],
   "metadata": {
    "collapsed": false
   }
  }
 ],
 "metadata": {
  "kernelspec": {
   "display_name": "Python 3",
   "language": "python",
   "name": "python3"
  },
  "language_info": {
   "codemirror_mode": {
    "name": "ipython",
    "version": 2
   },
   "file_extension": ".py",
   "mimetype": "text/x-python",
   "name": "python",
   "nbconvert_exporter": "python",
   "pygments_lexer": "ipython2",
   "version": "2.7.6"
  }
 },
 "nbformat": 4,
 "nbformat_minor": 0
}
