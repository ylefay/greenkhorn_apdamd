{
 "cells": [
  {
   "cell_type": "code",
   "execution_count": 1,
   "metadata": {
    "collapsed": true
   },
   "outputs": [],
   "source": [
    "import numpy as np\n",
    "import matplotlib.pyplot as plt\n",
    "from ot.greenkhorn.ot import OT as greenkhorn\n",
    "from ot.apdamd.ot import OT as apdamd\n",
    "from ot.tests.sample_problem import *\n",
    "from ot.ot import cost\n",
    "import timeit"
   ]
  },
  {
   "cell_type": "code",
   "execution_count": 8,
   "outputs": [
    {
     "name": "stdout",
     "output_type": "stream",
     "text": [
      "268 ms ± 13.4 ms per loop (mean ± std. dev. of 10 runs, 2 loops each)\n",
      "213 ms ± 7.58 ms per loop (mean ± std. dev. of 10 runs, 2 loops each)\n",
      "259 ms ± 3.61 ms per loop (mean ± std. dev. of 10 runs, 2 loops each)\n",
      "223 ms ± 16.8 ms per loop (mean ± std. dev. of 10 runs, 2 loops each)\n",
      "270 ms ± 10.9 ms per loop (mean ± std. dev. of 10 runs, 2 loops each)\n",
      "218 ms ± 10.5 ms per loop (mean ± std. dev. of 10 runs, 2 loops each)\n",
      "269 ms ± 3.44 ms per loop (mean ± std. dev. of 10 runs, 2 loops each)\n",
      "227 ms ± 6.31 ms per loop (mean ± std. dev. of 10 runs, 2 loops each)\n",
      "315 ms ± 3.94 ms per loop (mean ± std. dev. of 10 runs, 2 loops each)\n",
      "335 ms ± 6.92 ms per loop (mean ± std. dev. of 10 runs, 2 loops each)\n"
     ]
    }
   ],
   "source": [
    "n_iters = [10, 100, 1000, 10000, 100000]\n",
    "my_problem = sample_problem(6)\n",
    "eps = 4 * np.log(2)\n",
    "timings_greenkhorn = []\n",
    "timings_apdamd = []\n",
    "std_timings_greenkhorn = []\n",
    "std_timings_apdamd = []\n",
    "transport_plans_greenkhorn = []\n",
    "transport_plans_apdamd = []\n",
    "costs_greenkhorn = []\n",
    "costs_apdamd = []\n",
    "for n_iter in n_iters:\n",
    "    transport_plans_greenkhorn.append(greenkhorn(None, *my_problem[1:], eps=eps, iter_max=n_iter)[0])\n",
    "    transport_plans_apdamd.append(apdamd(*my_problem, eps=eps, iter_max=n_iter)[0])\n",
    "    costs_apdamd.append(cost(my_problem[1], transport_plans_apdamd[-1]))\n",
    "    costs_greenkhorn.append(cost(my_problem[1], transport_plans_greenkhorn[-1]))\n",
    "    timing_greenkhorn = %timeit -o -r 10 -n 2 greenkhorn( * my_problem, eps, iter_max=n_iter)\n",
    "    timing_apdamd = %timeit -o -r 10 -n 2 apdamd( * my_problem, eps, iter_max=n_iter)\n",
    "    timings_greenkhorn.append(np.mean(timing_greenkhorn.timings))\n",
    "    std_timings_greenkhorn.append(np.std(timing_greenkhorn.timings))\n",
    "    timings_apdamd.append(np.mean(timing_apdamd.timings))\n",
    "    std_timings_apdamd.append(np.std(timing_apdamd.timings))"
   ],
   "metadata": {
    "collapsed": false
   }
  },
  {
   "cell_type": "code",
   "execution_count": 9,
   "outputs": [
    {
     "data": {
      "text/plain": "[Array(0.89160837, dtype=float64),\n Array(0.89160848, dtype=float64),\n Array(0.89160848, dtype=float64),\n Array(0.89160848, dtype=float64),\n Array(0.89160848, dtype=float64)]"
     },
     "execution_count": 9,
     "metadata": {},
     "output_type": "execute_result"
    }
   ],
   "source": [
    "costs_greenkhorn"
   ],
   "metadata": {
    "collapsed": false
   }
  },
  {
   "cell_type": "code",
   "execution_count": 10,
   "outputs": [
    {
     "data": {
      "text/plain": "[Array(0.82340954, dtype=float64),\n Array(0.86017184, dtype=float64),\n Array(0.8698017, dtype=float64),\n Array(0.875011, dtype=float64),\n Array(0.87724696, dtype=float64)]"
     },
     "execution_count": 10,
     "metadata": {},
     "output_type": "execute_result"
    }
   ],
   "source": [
    "costs_apdamd"
   ],
   "metadata": {
    "collapsed": false
   }
  },
  {
   "cell_type": "code",
   "execution_count": 11,
   "outputs": [
    {
     "data": {
      "text/plain": "[Array([[0.02542768, 0.03630895, 0.03190571, 0.03934938, 0.05336869,\n         0.03317839],\n        [0.03358976, 0.03031642, 0.04896419, 0.07180592, 0.04853549,\n         0.0350032 ],\n        [0.02884797, 0.02915187, 0.02624332, 0.03035604, 0.02843338,\n         0.05156766],\n        [0.04574484, 0.03417127, 0.05227405, 0.03296366, 0.03038488,\n         0.0292658 ],\n        [0.03591396, 0.03648228, 0.04477104, 0.08084175, 0.06524415,\n         0.04753422],\n        [0.06369135, 0.03586088, 0.1175258 , 0.04540515, 0.05302365,\n         0.04681772]], dtype=float64),\n Array([[0.02757925, 0.0398853 , 0.03387303, 0.04221744, 0.05676026,\n         0.03573348],\n        [0.03496522, 0.03271577, 0.05004529, 0.07737039, 0.0519254 ,\n         0.03569979],\n        [0.03076347, 0.0323261 , 0.02833925, 0.0328643 , 0.03047974,\n         0.0571462 ],\n        [0.04914265, 0.03771263, 0.05573006, 0.03500948, 0.03125043,\n         0.03096579],\n        [0.0363882 , 0.03927063, 0.04375792, 0.08648605, 0.07004158,\n         0.04995551],\n        [0.06246967, 0.03796824, 0.12752553, 0.04436122, 0.05656193,\n         0.04310608]], dtype=float64),\n Array([[0.02814417, 0.04077738, 0.03438462, 0.04293686, 0.05764259,\n         0.03638079],\n        [0.03532038, 0.03332571, 0.05038489, 0.0787186 , 0.05278874,\n         0.03589374],\n        [0.03125968, 0.03312799, 0.02888519, 0.03351059, 0.03100601,\n         0.05852388],\n        [0.05001126, 0.03860432, 0.05654937, 0.03555176, 0.03150008,\n         0.03140934],\n        [0.03654239, 0.03998124, 0.04362796, 0.08785758, 0.07122111,\n         0.05056881],\n        [0.06221711, 0.03849717, 0.1298742 , 0.04416864, 0.05740054,\n         0.04221687]], dtype=float64),\n Array([[0.02844993, 0.04125199, 0.03466311, 0.04332042, 0.05811039,\n         0.0367286 ],\n        [0.0355127 , 0.03365209, 0.05057277, 0.0794332 , 0.0532489 ,\n         0.03600111],\n        [0.03152692, 0.03355605, 0.02918026, 0.03385712, 0.03128902,\n         0.05925357],\n        [0.05047363, 0.03907974, 0.05698305, 0.03584447, 0.03163893,\n         0.03164954],\n        [0.03663149, 0.04036153, 0.04357596, 0.08858015, 0.07184588,\n         0.05089775],\n        [0.06208928, 0.03878074, 0.13109943, 0.04407701, 0.05784764,\n         0.04175358]], dtype=float64),\n Array([[0.02858118, 0.0414541 , 0.03478297, 0.04348392, 0.05830927,\n         0.03687741],\n        [0.0355953 , 0.03379145, 0.05065424, 0.07973694, 0.05344502,\n         0.03604769],\n        [0.03164139, 0.03373863, 0.02930686, 0.03400524, 0.03141016,\n         0.05956363],\n        [0.05067057, 0.0392824 , 0.05716728, 0.03596997, 0.03169929,\n         0.03175269],\n        [0.03667088, 0.04052392, 0.0435573 , 0.08888639, 0.07211135,\n         0.05103838],\n        [0.06203619, 0.03890194, 0.13161622, 0.04404021, 0.05803823,\n         0.04155832]], dtype=float64)]"
     },
     "execution_count": 11,
     "metadata": {},
     "output_type": "execute_result"
    }
   ],
   "source": [
    "transport_plans_apdamd"
   ],
   "metadata": {
    "collapsed": false
   }
  },
  {
   "cell_type": "code",
   "execution_count": 12,
   "outputs": [
    {
     "data": {
      "text/plain": "[Array([[0.02975439, 0.0450884 , 0.0369984 , 0.04563586, 0.05298275,\n         0.04522874],\n        [0.03594858, 0.03763171, 0.05578792, 0.08809108, 0.05153788,\n         0.04524232],\n        [0.02986651, 0.03257395, 0.02948416, 0.03223271, 0.02977038,\n         0.05815053],\n        [0.04975573, 0.04487792, 0.06443589, 0.03950931, 0.03270855,\n         0.03869534],\n        [0.03489276, 0.04221313, 0.04361416, 0.08494527, 0.06010857,\n         0.06252665],\n        [0.04831295, 0.03832026, 0.11008379, 0.0409789 , 0.04640855,\n         0.04483978]], dtype=float64),\n Array([[0.0297544 , 0.0450884 , 0.0369984 , 0.04563587, 0.05298276,\n         0.04522875],\n        [0.03594859, 0.03763171, 0.0557879 , 0.08809109, 0.05153789,\n         0.04524233],\n        [0.02986651, 0.03257395, 0.02948416, 0.03223272, 0.02977039,\n         0.05815053],\n        [0.04975574, 0.04487793, 0.06443587, 0.03950932, 0.03270856,\n         0.03869535],\n        [0.03489276, 0.04221314, 0.04361415, 0.08494529, 0.06010858,\n         0.06252666],\n        [0.04831296, 0.03832027, 0.11008375, 0.04097891, 0.04640856,\n         0.04483979]], dtype=float64),\n Array([[0.0297544 , 0.0450884 , 0.0369984 , 0.04563587, 0.05298276,\n         0.04522875],\n        [0.03594859, 0.03763171, 0.0557879 , 0.08809109, 0.05153789,\n         0.04524233],\n        [0.02986651, 0.03257395, 0.02948416, 0.03223272, 0.02977039,\n         0.05815053],\n        [0.04975574, 0.04487793, 0.06443587, 0.03950932, 0.03270856,\n         0.03869535],\n        [0.03489276, 0.04221314, 0.04361415, 0.08494529, 0.06010858,\n         0.06252666],\n        [0.04831296, 0.03832027, 0.11008375, 0.04097891, 0.04640856,\n         0.04483979]], dtype=float64),\n Array([[0.0297544 , 0.0450884 , 0.0369984 , 0.04563587, 0.05298276,\n         0.04522875],\n        [0.03594859, 0.03763171, 0.0557879 , 0.08809109, 0.05153789,\n         0.04524233],\n        [0.02986651, 0.03257395, 0.02948416, 0.03223272, 0.02977039,\n         0.05815053],\n        [0.04975574, 0.04487793, 0.06443587, 0.03950932, 0.03270856,\n         0.03869535],\n        [0.03489276, 0.04221314, 0.04361415, 0.08494529, 0.06010858,\n         0.06252666],\n        [0.04831296, 0.03832027, 0.11008375, 0.04097891, 0.04640856,\n         0.04483979]], dtype=float64),\n Array([[0.0297544 , 0.0450884 , 0.0369984 , 0.04563587, 0.05298276,\n         0.04522875],\n        [0.03594859, 0.03763171, 0.0557879 , 0.08809109, 0.05153789,\n         0.04524233],\n        [0.02986651, 0.03257395, 0.02948416, 0.03223272, 0.02977039,\n         0.05815053],\n        [0.04975574, 0.04487793, 0.06443587, 0.03950932, 0.03270856,\n         0.03869535],\n        [0.03489276, 0.04221314, 0.04361415, 0.08494529, 0.06010858,\n         0.06252666],\n        [0.04831296, 0.03832027, 0.11008375, 0.04097891, 0.04640856,\n         0.04483979]], dtype=float64)]"
     },
     "execution_count": 12,
     "metadata": {},
     "output_type": "execute_result"
    }
   ],
   "source": [
    "transport_plans_greenkhorn"
   ],
   "metadata": {
    "collapsed": false
   }
  },
  {
   "cell_type": "code",
   "execution_count": null,
   "outputs": [],
   "source": [],
   "metadata": {
    "collapsed": false
   }
  }
 ],
 "metadata": {
  "kernelspec": {
   "display_name": "Python 3",
   "language": "python",
   "name": "python3"
  },
  "language_info": {
   "codemirror_mode": {
    "name": "ipython",
    "version": 2
   },
   "file_extension": ".py",
   "mimetype": "text/x-python",
   "name": "python",
   "nbconvert_exporter": "python",
   "pygments_lexer": "ipython2",
   "version": "2.7.6"
  }
 },
 "nbformat": 4,
 "nbformat_minor": 0
}
