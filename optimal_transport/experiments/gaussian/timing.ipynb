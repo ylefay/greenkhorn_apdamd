{
 "cells": [
  {
   "cell_type": "code",
   "execution_count": 1,
   "metadata": {
    "collapsed": true
   },
   "outputs": [],
   "source": [
    "import numpy as np\n",
    "import matplotlib.pyplot as plt\n",
    "\n",
    "import optimal_transport.apdamd.ot\n",
    "from optimal_transport.greenkhorn.ot import OT as greenkhorn\n",
    "from optimal_transport.apdamd.ot import OT as apdamd\n",
    "from optimal_transport.tests.sample_problem import sample_gaussian_OT_exact, simple_problem\n",
    "from optimal_transport.ot import cost\n",
    "import timeit"
   ]
  },
  {
   "cell_type": "code",
   "execution_count": 2,
   "outputs": [],
   "source": [
    "# Create the problem\n",
    "n = 1  # dim\n",
    "N = 20  # number of points\n",
    "Gaussian1 = (np.zeros(n), np.eye(n))\n",
    "Gaussian2 = (np.ones(n), np.eye(n) + np.triu(np.ones(n)) * 0.5)\n",
    "my_problem = sample_gaussian_OT_exact(N, n, (Gaussian1, Gaussian2))\n"
   ],
   "metadata": {
    "collapsed": false
   }
  },
  {
   "cell_type": "code",
   "execution_count": 3,
   "outputs": [],
   "source": [
    "epss = np.linspace(0.01, 0.05, 5)\n",
    "timings_greenkhorn = dict()\n",
    "timings_apdamd = dict()\n",
    "std_timings_greenkhorn = dict()\n",
    "std_timings_apdamd = dict()\n",
    "transport_plans_greenkhorn = dict()\n",
    "transport_plans_apdamd = dict()\n",
    "costs_greenkhorn = dict()\n",
    "costs_apdamd = dict()\n",
    "realised_iters_greenkhorn = dict()\n",
    "realised_iters_apdamd = dict()\n",
    "theoretical_iters_greenkhorn = dict()\n",
    "theoretical_iters_apdamd = dict()\n",
    "converge_greenkhorn = dict()\n",
    "converge_apdamd = dict()\n",
    "\n",
    "ENABLE_GREENKHORN = False\n",
    "\n",
    "n_iter = 10\n",
    "\n",
    "# Theoretical bounds on hte number of iterations\n",
    "for i, eps in enumerate(epss):\n",
    "    theoretical_iters_apdamd[(n_iter, eps)] = optimal_transport.apdamd.ot.theoretical_bound_on_iter(*my_problem[1:], eps)\n",
    "    theoretical_iters_greenkhorn[(n_iter, eps)] = optimal_transport.greenkhorn.ot.theoretical_bound_on_iter(*my_problem[1:], eps)\n"
   ],
   "metadata": {
    "collapsed": false
   }
  },
  {
   "cell_type": "code",
   "execution_count": 4,
   "outputs": [
    {
     "name": "stdout",
     "output_type": "stream",
     "text": [
      "507 ms ± 10.1 ms per loop (mean ± std. dev. of 5 runs, 1 loop each)\n",
      "559 ms ± 71.5 ms per loop (mean ± std. dev. of 5 runs, 1 loop each)\n",
      "502 ms ± 7.32 ms per loop (mean ± std. dev. of 5 runs, 1 loop each)\n",
      "490 ms ± 3.04 ms per loop (mean ± std. dev. of 5 runs, 1 loop each)\n",
      "512 ms ± 29.5 ms per loop (mean ± std. dev. of 5 runs, 1 loop each)\n"
     ]
    },
    {
     "ename": "ValueError",
     "evalue": "setting an array element with a sequence. The requested array has an inhomogeneous shape after 2 dimensions. The detected shape was (4, 20) + inhomogeneous part.",
     "output_type": "error",
     "traceback": [
      "\u001B[0;31m---------------------------------------------------------------------------\u001B[0m",
      "\u001B[0;31mValueError\u001B[0m                                Traceback (most recent call last)",
      "Cell \u001B[0;32mIn[4], line 21\u001B[0m\n\u001B[1;32m     17\u001B[0m     realised_iters_apdamd[(n_iter, eps)] \u001B[38;5;241m=\u001B[39m _\n\u001B[1;32m     18\u001B[0m     converge_apdamd[(n_iter, eps)] \u001B[38;5;241m=\u001B[39m _ \u001B[38;5;241m<\u001B[39m \u001B[38;5;28mmin\u001B[39m(n_iter \u001B[38;5;28;01mif\u001B[39;00m n_iter \u001B[38;5;129;01mis\u001B[39;00m \u001B[38;5;129;01mnot\u001B[39;00m \u001B[38;5;28;01mNone\u001B[39;00m \u001B[38;5;28;01melse\u001B[39;00m np\u001B[38;5;241m.\u001B[39minf,\n\u001B[1;32m     19\u001B[0m                                              theoretical_iters_apdamd[(n_iter, eps)])\n\u001B[0;32m---> 21\u001B[0m \u001B[43mnp\u001B[49m\u001B[38;5;241;43m.\u001B[39;49m\u001B[43msavez\u001B[49m\u001B[43m(\u001B[49m\u001B[38;5;124;43m'\u001B[39;49m\u001B[38;5;124;43m./run.npz\u001B[39;49m\u001B[38;5;124;43m'\u001B[39;49m\u001B[43m,\u001B[49m\u001B[43m \u001B[49m\u001B[43mtimings_greenkhorn\u001B[49m\u001B[38;5;241;43m=\u001B[39;49m\u001B[43mtimings_greenkhorn\u001B[49m\u001B[43m,\u001B[49m\u001B[43m \u001B[49m\u001B[43mtimings_apdamd\u001B[49m\u001B[38;5;241;43m=\u001B[39;49m\u001B[43mtimings_apdamd\u001B[49m\u001B[43m,\u001B[49m\n\u001B[1;32m     22\u001B[0m \u001B[43m         \u001B[49m\u001B[43mstd_timings_greenkhorn\u001B[49m\u001B[38;5;241;43m=\u001B[39;49m\u001B[43mstd_timings_greenkhorn\u001B[49m\u001B[43m,\u001B[49m\u001B[43m \u001B[49m\u001B[43mstd_timings_apdamd\u001B[49m\u001B[38;5;241;43m=\u001B[39;49m\u001B[43mstd_timings_apdamd\u001B[49m\u001B[43m,\u001B[49m\n\u001B[1;32m     23\u001B[0m \u001B[43m         \u001B[49m\u001B[43mtransport_plans_greenkhorn\u001B[49m\u001B[38;5;241;43m=\u001B[39;49m\u001B[43mtransport_plans_greenkhorn\u001B[49m\u001B[43m,\u001B[49m\u001B[43m \u001B[49m\u001B[43mtransport_plans_apdamd\u001B[49m\u001B[38;5;241;43m=\u001B[39;49m\u001B[43mtransport_plans_apdamd\u001B[49m\u001B[43m,\u001B[49m\n\u001B[1;32m     24\u001B[0m \u001B[43m         \u001B[49m\u001B[43mcosts_greenkhorn\u001B[49m\u001B[38;5;241;43m=\u001B[39;49m\u001B[43mcosts_greenkhorn\u001B[49m\u001B[43m,\u001B[49m\u001B[43m \u001B[49m\u001B[43mcosts_apdamd\u001B[49m\u001B[38;5;241;43m=\u001B[39;49m\u001B[43mcosts_apdamd\u001B[49m\u001B[43m,\u001B[49m\u001B[43m \u001B[49m\u001B[43mrealised_iters_greenkhorn\u001B[49m\u001B[38;5;241;43m=\u001B[39;49m\u001B[43mrealised_iters_greenkhorn\u001B[49m\u001B[43m,\u001B[49m\n\u001B[1;32m     25\u001B[0m \u001B[43m         \u001B[49m\u001B[43mrealised_iters_apdamd\u001B[49m\u001B[38;5;241;43m=\u001B[39;49m\u001B[43mrealised_iters_apdamd\u001B[49m\u001B[43m,\u001B[49m\u001B[43m \u001B[49m\u001B[43mtheoretical_iters_greenkhorn\u001B[49m\u001B[38;5;241;43m=\u001B[39;49m\u001B[43mtheoretical_iters_greenkhorn\u001B[49m\u001B[43m,\u001B[49m\n\u001B[1;32m     26\u001B[0m \u001B[43m         \u001B[49m\u001B[43mtheoretical_iters_apdamd\u001B[49m\u001B[38;5;241;43m=\u001B[39;49m\u001B[43mtheoretical_iters_apdamd\u001B[49m\u001B[43m,\u001B[49m\u001B[43m \u001B[49m\u001B[43mconverge_greenkhorn\u001B[49m\u001B[38;5;241;43m=\u001B[39;49m\u001B[43mconverge_greenkhorn\u001B[49m\u001B[43m,\u001B[49m\n\u001B[1;32m     27\u001B[0m \u001B[43m         \u001B[49m\u001B[43mconverge_apdamd\u001B[49m\u001B[38;5;241;43m=\u001B[39;49m\u001B[43mconverge_apdamd\u001B[49m\u001B[43m,\u001B[49m\u001B[43m \u001B[49m\u001B[43mepss\u001B[49m\u001B[38;5;241;43m=\u001B[39;49m\u001B[43mepss\u001B[49m\u001B[43m,\u001B[49m\u001B[43m \u001B[49m\u001B[43mmy_problem\u001B[49m\u001B[38;5;241;43m=\u001B[39;49m\u001B[43mmy_problem\u001B[49m\u001B[43m)\u001B[49m\n",
      "File \u001B[0;32m~/greenkhorn_apdamd/venv/lib/python3.11/site-packages/numpy/lib/npyio.py:639\u001B[0m, in \u001B[0;36msavez\u001B[0;34m(file, *args, **kwds)\u001B[0m\n\u001B[1;32m    555\u001B[0m \u001B[38;5;129m@array_function_dispatch\u001B[39m(_savez_dispatcher)\n\u001B[1;32m    556\u001B[0m \u001B[38;5;28;01mdef\u001B[39;00m \u001B[38;5;21msavez\u001B[39m(file, \u001B[38;5;241m*\u001B[39margs, \u001B[38;5;241m*\u001B[39m\u001B[38;5;241m*\u001B[39mkwds):\n\u001B[1;32m    557\u001B[0m \u001B[38;5;250m    \u001B[39m\u001B[38;5;124;03m\"\"\"Save several arrays into a single file in uncompressed ``.npz`` format.\u001B[39;00m\n\u001B[1;32m    558\u001B[0m \n\u001B[1;32m    559\u001B[0m \u001B[38;5;124;03m    Provide arrays as keyword arguments to store them under the\u001B[39;00m\n\u001B[0;32m   (...)\u001B[0m\n\u001B[1;32m    637\u001B[0m \n\u001B[1;32m    638\u001B[0m \u001B[38;5;124;03m    \"\"\"\u001B[39;00m\n\u001B[0;32m--> 639\u001B[0m     \u001B[43m_savez\u001B[49m\u001B[43m(\u001B[49m\u001B[43mfile\u001B[49m\u001B[43m,\u001B[49m\u001B[43m \u001B[49m\u001B[43margs\u001B[49m\u001B[43m,\u001B[49m\u001B[43m \u001B[49m\u001B[43mkwds\u001B[49m\u001B[43m,\u001B[49m\u001B[43m \u001B[49m\u001B[38;5;28;43;01mFalse\u001B[39;49;00m\u001B[43m)\u001B[49m\n",
      "File \u001B[0;32m~/greenkhorn_apdamd/venv/lib/python3.11/site-packages/numpy/lib/npyio.py:740\u001B[0m, in \u001B[0;36m_savez\u001B[0;34m(file, args, kwds, compress, allow_pickle, pickle_kwargs)\u001B[0m\n\u001B[1;32m    738\u001B[0m \u001B[38;5;28;01mfor\u001B[39;00m key, val \u001B[38;5;129;01min\u001B[39;00m namedict\u001B[38;5;241m.\u001B[39mitems():\n\u001B[1;32m    739\u001B[0m     fname \u001B[38;5;241m=\u001B[39m key \u001B[38;5;241m+\u001B[39m \u001B[38;5;124m'\u001B[39m\u001B[38;5;124m.npy\u001B[39m\u001B[38;5;124m'\u001B[39m\n\u001B[0;32m--> 740\u001B[0m     val \u001B[38;5;241m=\u001B[39m np\u001B[38;5;241m.\u001B[39masanyarray(val)\n\u001B[1;32m    741\u001B[0m     \u001B[38;5;66;03m# always force zip64, gh-10776\u001B[39;00m\n\u001B[1;32m    742\u001B[0m     \u001B[38;5;28;01mwith\u001B[39;00m zipf\u001B[38;5;241m.\u001B[39mopen(fname, \u001B[38;5;124m'\u001B[39m\u001B[38;5;124mw\u001B[39m\u001B[38;5;124m'\u001B[39m, force_zip64\u001B[38;5;241m=\u001B[39m\u001B[38;5;28;01mTrue\u001B[39;00m) \u001B[38;5;28;01mas\u001B[39;00m fid:\n",
      "\u001B[0;31mValueError\u001B[0m: setting an array element with a sequence. The requested array has an inhomogeneous shape after 2 dimensions. The detected shape was (4, 20) + inhomogeneous part."
     ]
    }
   ],
   "source": [
    "for i, eps in enumerate(epss):\n",
    "    if ENABLE_GREENKHORN:\n",
    "        transport_plans_greenkhorn[(n_iter, eps)], _ = greenkhorn(None, *my_problem[1:], eps=eps, iter_max=n_iter)\n",
    "        costs_greenkhorn[(n_iter, eps)] = (cost(my_problem[1], transport_plans_greenkhorn[(n_iter, eps)]))\n",
    "        timing_greenkhorn = %timeit -o -r 2 -n 1 greenkhorn( * my_problem, eps, iter_max=n_iter)\n",
    "        timings_greenkhorn[(n_iter, eps)] = np.mean(timing_greenkhorn.timings)\n",
    "        std_timings_greenkhorn[(n_iter, eps)] = np.std(timing_greenkhorn.timings)\n",
    "        realised_iters_greenkhorn[(n_iter, eps)] = _\n",
    "        converge_greenkhorn[(n_iter, eps)] = _ < min(n_iter if n_iter is not None else np.inf,\n",
    "                                                     theoretical_iters_greenkhorn[(n_iter, eps)])\n",
    "\n",
    "    transport_plans_apdamd[(n_iter, eps)], _ = apdamd(None, *my_problem[1:], eps=eps, iter_max=n_iter)\n",
    "    costs_apdamd[(n_iter, eps)] = cost(my_problem[1], transport_plans_apdamd[(n_iter, eps)])\n",
    "    timing_apdamd = %timeit -o -r 5 -n 1 apdamd( * my_problem, eps, iter_max=n_iter)\n",
    "    timings_apdamd[(n_iter, eps)] = np.mean(timing_apdamd.timings)\n",
    "    std_timings_apdamd[(n_iter, eps)] = np.std(timing_apdamd.timings)\n",
    "    realised_iters_apdamd[(n_iter, eps)] = _\n",
    "    converge_apdamd[(n_iter, eps)] = _ < min(n_iter if n_iter is not None else np.inf,\n",
    "                                             theoretical_iters_apdamd[(n_iter, eps)])\n",
    "\n",
    "np.savez('./run.npz', timings_greenkhorn=timings_greenkhorn, timings_apdamd=timings_apdamd,\n",
    "         std_timings_greenkhorn=std_timings_greenkhorn, std_timings_apdamd=std_timings_apdamd,\n",
    "         transport_plans_greenkhorn=transport_plans_greenkhorn, transport_plans_apdamd=transport_plans_apdamd,\n",
    "         costs_greenkhorn=costs_greenkhorn, costs_apdamd=costs_apdamd, realised_iters_greenkhorn=realised_iters_greenkhorn,\n",
    "         realised_iters_apdamd=realised_iters_apdamd, theoretical_iters_greenkhorn=theoretical_iters_greenkhorn,\n",
    "         theoretical_iters_apdamd=theoretical_iters_apdamd, converge_greenkhorn=converge_greenkhorn,\n",
    "         converge_apdamd=converge_apdamd, epss=epss, my_problem=my_problem)"
   ],
   "metadata": {
    "collapsed": false
   }
  },
  {
   "cell_type": "code",
   "execution_count": 18,
   "outputs": [
    {
     "data": {
      "text/plain": "array([[4.99977301e-01, 2.26989344e-05],\n       [2.26989344e-05, 4.99977301e-01]])"
     },
     "execution_count": 18,
     "metadata": {},
     "output_type": "execute_result"
    }
   ],
   "source": [
    "a = np.array(my_problem[2])\n",
    "b = np.array(my_problem[3])\n",
    "M = np.array(my_problem[1])\n",
    "\n",
    "my_simple_problem = simple_problem()\n",
    "a = np.array(my_simple_problem[2])\n",
    "b = np.array(my_simple_problem[3])\n",
    "M = np.array(my_simple_problem[1])\n"
   ],
   "metadata": {
    "collapsed": false
   }
  },
  {
   "cell_type": "code",
   "execution_count": 25,
   "outputs": [
    {
     "data": {
      "text/plain": "(Array([[5.00000000e-01, 4.54747351e-13],\n        [4.54747351e-13, 5.00000000e-01]], dtype=float64),\n Array(10, dtype=int64, weak_type=True))"
     },
     "execution_count": 25,
     "metadata": {},
     "output_type": "execute_result"
    }
   ],
   "source": [
    "greenkhorn(None, *my_simple_problem[1:], eps=0.1, iter_max=10)"
   ],
   "metadata": {
    "collapsed": false
   }
  },
  {
   "cell_type": "code",
   "execution_count": null,
   "outputs": [],
   "source": [],
   "metadata": {
    "collapsed": false
   }
  }
 ],
 "metadata": {
  "kernelspec": {
   "display_name": "Python 3",
   "language": "python",
   "name": "python3"
  },
  "language_info": {
   "codemirror_mode": {
    "name": "ipython",
    "version": 2
   },
   "file_extension": ".py",
   "mimetype": "text/x-python",
   "name": "python",
   "nbconvert_exporter": "python",
   "pygments_lexer": "ipython2",
   "version": "2.7.6"
  }
 },
 "nbformat": 4,
 "nbformat_minor": 0
}
