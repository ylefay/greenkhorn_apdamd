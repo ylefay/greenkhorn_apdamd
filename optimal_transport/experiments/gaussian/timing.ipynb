{
 "cells": [
  {
   "cell_type": "code",
   "execution_count": 15,
   "metadata": {
    "collapsed": true
   },
   "outputs": [],
   "source": [
    "import numpy as np\n",
    "import matplotlib.pyplot as plt\n",
    "\n",
    "import optimal_transport.apdamd.ot\n",
    "from optimal_transport.greenkhorn.ot import OT as greenkhorn\n",
    "from optimal_transport.apdamd.ot import OT as apdamd\n",
    "from optimal_transport.tests.sample_problem import sample_gaussian_OT_exact, simple_problem\n",
    "from optimal_transport.ot import cost\n",
    "import timeit"
   ]
  },
  {
   "cell_type": "code",
   "execution_count": 4,
   "outputs": [],
   "source": [
    "# Create the problem\n",
    "n = 1  # dim\n",
    "N = 100  # number of points\n",
    "Gaussian1 = (np.zeros(n), np.eye(n))\n",
    "Gaussian2 = (np.ones(n), np.eye(n) + np.triu(np.ones(n)) * 0.5)\n",
    "my_problem = sample_gaussian_OT_exact(N, n, (Gaussian1, Gaussian2))\n"
   ],
   "metadata": {
    "collapsed": false
   }
  },
  {
   "cell_type": "code",
   "execution_count": 7,
   "outputs": [],
   "source": [
    "epss = np.linspace(1, 2, 10)\n",
    "timings_greenkhorn = dict()\n",
    "timings_apdamd = dict()\n",
    "std_timings_greenkhorn = dict()\n",
    "std_timings_apdamd = dict()\n",
    "transport_plans_greenkhorn = dict()\n",
    "transport_plans_apdamd = dict()\n",
    "costs_greenkhorn = dict()\n",
    "costs_apdamd = dict()\n",
    "realised_iters_greenkhorn = dict()\n",
    "realised_iters_apdamd = dict()\n",
    "theoretical_iters_greenkhorn = dict()\n",
    "theoretical_iters_apdamd = dict()\n",
    "converge_greenkhorn = dict()\n",
    "converge_apdamd = dict()\n",
    "\n",
    "ENABLE_GREENKHORN = False\n",
    "\n",
    "n_iter = None\n",
    "\n",
    "# Theoretical bounds on hte number of iterations\n",
    "for i, eps in enumerate(epss):\n",
    "    theoretical_iters_apdamd[(n_iter, eps)] = ot.apdamd.ot.theoretical_bound_on_iter(*my_problem[1:], eps)\n",
    "    theoretical_iters_greenkhorn[(n_iter, eps)] = ot.greenkhorn.ot.theoretical_bound_on_iter(*my_problem[1:], eps)\n"
   ],
   "metadata": {
    "collapsed": false
   }
  },
  {
   "cell_type": "code",
   "execution_count": null,
   "outputs": [],
   "source": [
    "for i, eps in enumerate(epss):\n",
    "    if ENABLE_GREENKHORN:\n",
    "        transport_plans_greenkhorn[(n_iter, eps)], _ = greenkhorn(None, *my_problem[1:], eps=eps, iter_max=n_iter)\n",
    "        costs_greenkhorn[(n_iter, eps)] = (cost(my_problem[1], transport_plans_greenkhorn[(n_iter, eps)]))\n",
    "        timing_greenkhorn = %timeit -o -r 2 -n 1 greenkhorn( * my_problem, eps, iter_max=n_iter)\n",
    "        timings_greenkhorn[(n_iter, eps)] = np.mean(timing_greenkhorn.timings)\n",
    "        std_timings_greenkhorn[(n_iter, eps)] = np.std(timing_greenkhorn.timings)\n",
    "        realised_iters_greenkhorn[(n_iter, eps)] = _\n",
    "        converge_greenkhorn[(n_iter, eps)] = _ < min(n_iter if n_iter is not None else np.inf,\n",
    "                                                     theoretical_iters_greenkhorn[(n_iter, eps)])\n",
    "\n",
    "    transport_plans_apdamd[(n_iter, eps)], _ = apdamd(*my_problem, eps=eps, iter_max=n_iter)\n",
    "    costs_apdamd[(n_iter, eps)] = cost(my_problem[1], transport_plans_apdamd[(n_iter, eps)])\n",
    "    timing_apdamd = %timeit -o -r 5 -n 1 apdamd( * my_problem, eps, iter_max=n_iter)\n",
    "    timings_apdamd[(n_iter, eps)] = np.mean(timing_apdamd.timings)\n",
    "    std_timings_apdamd[(n_iter, eps)] = np.std(timing_apdamd.timings)\n",
    "    realised_iters_apdamd[(n_iter, eps)] = _\n",
    "    converge_apdamd[(n_iter, eps)] = _ < min(n_iter if n_iter is not None else np.inf,\n",
    "                                             theoretical_iters_apdamd[(n_iter, eps)])\n",
    "\n",
    "np.savez('./run.npz', timings_greenkhorn=timings_greenkhorn, timings_apdamd=timings_apdamd,\n",
    "         std_timings_greenkhorn=std_timings_greenkhorn, std_timings_apdamd=std_timings_apdamd,\n",
    "         transport_plans_greenkhorn=transport_plans_greenkhorn, transport_plans_apdamd=transport_plans_apdamd,\n",
    "         costs_greenkhorn=costs_greenkhorn, costs_apdamd=costs_apdamd, realised_iters_greenkhorn=realised_iters_greenkhorn,\n",
    "         realised_iters_apdamd=realised_iters_apdamd, theoretical_iters_greenkhorn=theoretical_iters_greenkhorn,\n",
    "         theoretical_iters_apdamd=theoretical_iters_apdamd, converge_greenkhorn=converge_greenkhorn,\n",
    "         converge_apdamd=converge_apdamd, epss=epss, my_problem=my_problem)"
   ],
   "metadata": {
    "collapsed": false,
    "pycharm": {
     "is_executing": true
    }
   }
  },
  {
   "cell_type": "code",
   "execution_count": 6,
   "outputs": [],
   "source": [
    "import ot.bregman._sinkhorn as s"
   ],
   "metadata": {
    "collapsed": false
   }
  },
  {
   "cell_type": "code",
   "execution_count": 18,
   "outputs": [
    {
     "data": {
      "text/plain": "array([[4.99977301e-01, 2.26989344e-05],\n       [2.26989344e-05, 4.99977301e-01]])"
     },
     "execution_count": 18,
     "metadata": {},
     "output_type": "execute_result"
    }
   ],
   "source": [
    "a = np.array(my_problem[2])\n",
    "b = np.array(my_problem[3])\n",
    "M = np.array(my_problem[1])\n",
    "s.greenkhorn(a=a,b=b,M=M, reg=0.1)\n",
    "\n",
    "my_simple_problem = simple_problem()\n",
    "a = np.array(my_simple_problem[2])\n",
    "b = np.array(my_simple_problem[3])\n",
    "M = np.array(my_simple_problem[1])\n",
    "s.greenkhorn(a=a, b=b, M=M, reg=0.1)"
   ],
   "metadata": {
    "collapsed": false
   }
  },
  {
   "cell_type": "code",
   "execution_count": 25,
   "outputs": [
    {
     "data": {
      "text/plain": "(Array([[5.00000000e-01, 4.54747351e-13],\n        [4.54747351e-13, 5.00000000e-01]], dtype=float64),\n Array(10, dtype=int64, weak_type=True))"
     },
     "execution_count": 25,
     "metadata": {},
     "output_type": "execute_result"
    }
   ],
   "source": [
    "greenkhorn(None, *my_simple_problem[1:], eps=0.1, iter_max=10)"
   ],
   "metadata": {
    "collapsed": false
   }
  },
  {
   "cell_type": "code",
   "execution_count": null,
   "outputs": [],
   "source": [],
   "metadata": {
    "collapsed": false
   }
  }
 ],
 "metadata": {
  "kernelspec": {
   "display_name": "Python 3",
   "language": "python",
   "name": "python3"
  },
  "language_info": {
   "codemirror_mode": {
    "name": "ipython",
    "version": 2
   },
   "file_extension": ".py",
   "mimetype": "text/x-python",
   "name": "python",
   "nbconvert_exporter": "python",
   "pygments_lexer": "ipython2",
   "version": "2.7.6"
  }
 },
 "nbformat": 4,
 "nbformat_minor": 0
}
